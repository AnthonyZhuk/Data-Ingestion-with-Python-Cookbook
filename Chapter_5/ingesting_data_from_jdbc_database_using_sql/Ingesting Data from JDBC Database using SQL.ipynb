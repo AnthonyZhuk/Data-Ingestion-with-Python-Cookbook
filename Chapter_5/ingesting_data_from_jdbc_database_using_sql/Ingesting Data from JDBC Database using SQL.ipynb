{
 "cells": [
  {
   "cell_type": "code",
   "execution_count": null,
   "id": "e85cfc5d",
   "metadata": {},
   "outputs": [],
   "source": [
    "from pyspark.conf import SparkConf\n",
    "from pyspark.sql import SparkSession\n"
   ]
  },
  {
   "cell_type": "code",
   "execution_count": null,
   "id": "c9cae571",
   "metadata": {},
   "outputs": [],
   "source": [
    "conf = SparkConf()\n",
    "conf.set('spark.jars','/path/to/your/postgresql-42.5.1.jar')\n"
   ]
  },
  {
   "cell_type": "code",
   "execution_count": null,
   "id": "3a9174fe",
   "metadata": {},
   "outputs": [],
   "source": [
    "spark"
   ]
  },
  {
   "cell_type": "code",
   "execution_count": null,
   "id": "c3e71d10",
   "metadata": {},
   "outputs": [],
   "source": [
    "spark = SparkSession.builder \\\n",
    "        .config(conf=conf) \\\n",
    "        .master(\"local\") \\\n",
    "        .appName(\"Postgres Connection Test\") \\\n",
    "        .getOrCreate()\n"
   ]
  },
  {
   "cell_type": "code",
   "execution_count": null,
   "id": "1fd4e1a9",
   "metadata": {},
   "outputs": [],
   "source": [
    "df = spark.read.format(\"jdbc\") \\\n",
    "    .options( url=\"jdbc:postgresql://localhost:5432/cookbook\",\n",
    "             dbtable=\"world_population\",\n",
    "             user=\"root\",\n",
    "             password=\"root\",\n",
    "             driver=\"org.postgresql.Driver\") \\\n",
    "    .load()"
   ]
  },
  {
   "cell_type": "code",
   "execution_count": null,
   "id": "00f5d2bd",
   "metadata": {},
   "outputs": [],
   "source": [
    "df.printSchema()"
   ]
  },
  {
   "cell_type": "code",
   "execution_count": null,
   "id": "696c90ee",
   "metadata": {},
   "outputs": [],
   "source": [
    "df.createOrReplaceTempView(\"world_population\")"
   ]
  },
  {
   "cell_type": "code",
   "execution_count": null,
   "id": "20364b60",
   "metadata": {},
   "outputs": [],
   "source": [
    "spark.sql(\"select * from world_population\").show(3)"
   ]
  },
  {
   "cell_type": "code",
   "execution_count": null,
   "id": "75003b1e",
   "metadata": {},
   "outputs": [],
   "source": [
    "south_america = spark.sql(\"select * from world_population where continent = 'South America' \")"
   ]
  },
  {
   "cell_type": "code",
   "execution_count": null,
   "id": "314fa539",
   "metadata": {},
   "outputs": [],
   "source": [
    "south_america.toPandas()"
   ]
  },
  {
   "cell_type": "code",
   "execution_count": null,
   "id": "9db440d2",
   "metadata": {},
   "outputs": [],
   "source": [
    "south_america.write.parquet('south_america_population')"
   ]
  },
  {
   "cell_type": "code",
   "execution_count": null,
   "id": "adffaa7e",
   "metadata": {},
   "outputs": [],
   "source": [
    "# There is more...\n",
    "df.filter(df['continent'] == 'South America').show(10)"
   ]
  }
 ],
 "metadata": {
  "kernelspec": {
   "display_name": "Python 3 (ipykernel)",
   "language": "python",
   "name": "python3"
  },
  "language_info": {
   "codemirror_mode": {
    "name": "ipython",
    "version": 3
   },
   "file_extension": ".py",
   "mimetype": "text/x-python",
   "name": "python",
   "nbconvert_exporter": "python",
   "pygments_lexer": "ipython3",
   "version": "3.8.10"
  }
 },
 "nbformat": 4,
 "nbformat_minor": 5
}
