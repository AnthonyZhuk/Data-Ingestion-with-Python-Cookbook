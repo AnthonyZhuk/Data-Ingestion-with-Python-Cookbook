{
 "cells": [
  {
   "cell_type": "code",
   "execution_count": null,
   "id": "2596ca55",
   "metadata": {},
   "outputs": [],
   "source": [
    "## Installing required packages\n",
    "\n",
    "# GnuPG for Linux\n",
    "# sudo apt-get install gnupg\n",
    "\n",
    "\n",
    "# Python wrapper\n",
    "# pip3 install python-gnupg"
   ]
  },
  {
   "cell_type": "code",
   "execution_count": null,
   "id": "9421d357",
   "metadata": {},
   "outputs": [],
   "source": [
    "import os\n",
    "import gnupg\n",
    "\n",
    "# Create gnupg directory\n",
    "gpg = gnupg.GPG(gnupghome='gpghome')\n",
    "\n",
    "# Open and import the key\n",
    "key_data = open('mykeyfile.asc').read()\n",
    "import_result = gpg.import_keys(key_data)\n",
    "\n",
    "# Show the fingerprint of our key\n",
    "print(import_result.results)"
   ]
  },
  {
   "cell_type": "code",
   "execution_count": null,
   "id": "0e140b20",
   "metadata": {},
   "outputs": [],
   "source": [
    "# Decrypting the file\n",
    "with open('spotify_data.csv.gpg', 'rb') as f:\n",
    "    status = gpg.decrypt_file(f, passphrase='mypassphrase', output='spotify_data.csv')\n",
    "\n",
    "print('ok: ', status.ok)\n",
    "print('status: ', status.status)\n",
    "print('stderr: ', status.stderr)"
   ]
  }
 ],
 "metadata": {
  "kernelspec": {
   "display_name": "Python 3 (ipykernel)",
   "language": "python",
   "name": "python3"
  },
  "language_info": {
   "codemirror_mode": {
    "name": "ipython",
    "version": 3
   },
   "file_extension": ".py",
   "mimetype": "text/x-python",
   "name": "python",
   "nbconvert_exporter": "python",
   "pygments_lexer": "ipython3",
   "version": "3.8.10"
  }
 },
 "nbformat": 4,
 "nbformat_minor": 5
}
