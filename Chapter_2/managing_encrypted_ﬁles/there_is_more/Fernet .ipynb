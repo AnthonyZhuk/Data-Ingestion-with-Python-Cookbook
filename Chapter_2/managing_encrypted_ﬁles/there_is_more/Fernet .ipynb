{
 "cells": [
  {
   "cell_type": "code",
   "execution_count": null,
   "id": "b0cf264c",
   "metadata": {},
   "outputs": [],
   "source": [
    "from cryptography.fernet import Fernet\n",
    "\n",
    "# Retrieving key\n",
    "fernet_key = Fernet(key)\n",
    " \n",
    "# Getting and opening the encrypted file\n",
    "with open('spotify_data.csv', 'rb') as enc_file:\n",
    "    encrypted = enc_file.read()"
   ]
  },
  {
   "cell_type": "code",
   "execution_count": null,
   "id": "4dfb1820",
   "metadata": {},
   "outputs": [],
   "source": [
    "# Decrypting the file\n",
    "decrypted = fernet_key.decrypt(encrypted)\n",
    " \n",
    "# Creating a decrypted file\n",
    "with open('spotify_data.csv', 'wb') as dec_file:\n",
    "    dec_file.write(decrypted)"
   ]
  }
 ],
 "metadata": {
  "kernelspec": {
   "display_name": "Python 3 (ipykernel)",
   "language": "python",
   "name": "python3"
  },
  "language_info": {
   "codemirror_mode": {
    "name": "ipython",
    "version": 3
   },
   "file_extension": ".py",
   "mimetype": "text/x-python",
   "name": "python",
   "nbconvert_exporter": "python",
   "pygments_lexer": "ipython3",
   "version": "3.8.10"
  }
 },
 "nbformat": 4,
 "nbformat_minor": 5
}
