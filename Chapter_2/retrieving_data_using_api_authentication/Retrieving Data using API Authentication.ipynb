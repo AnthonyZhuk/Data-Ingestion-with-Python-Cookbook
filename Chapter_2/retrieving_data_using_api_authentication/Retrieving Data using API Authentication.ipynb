{
 "cells": [
  {
   "cell_type": "code",
   "execution_count": null,
   "id": "380b9f49",
   "metadata": {},
   "outputs": [],
   "source": [
    "# Installing the requests library\n",
    "!pip3 install requests"
   ]
  },
  {
   "cell_type": "code",
   "execution_count": null,
   "id": "306fc173",
   "metadata": {},
   "outputs": [],
   "source": [
    "import requests\n",
    "import json\n",
    "\n",
    "params = { 'key': 'YOUR-API-KEY',\n",
    "          'country': 'BR',\n",
    "          'year': 2021\n",
    "}\n",
    "\n",
    "url = \"https://holidayapi.com/v1/holidays?\"\n",
    "\n",
    "req = requests.get(url, params=params)\n",
    "print(req.json())\n",
    "\n",
    "with open(\"holiday_brazil.json\", \"w\") as f:\n",
    "    json.dump(req.json(), f)"
   ]
  },
  {
   "cell_type": "code",
   "execution_count": null,
   "id": "ad350de1",
   "metadata": {},
   "outputs": [],
   "source": []
  }
 ],
 "metadata": {
  "kernelspec": {
   "display_name": "Python 3 (ipykernel)",
   "language": "python",
   "name": "python3"
  },
  "language_info": {
   "codemirror_mode": {
    "name": "ipython",
    "version": 3
   },
   "file_extension": ".py",
   "mimetype": "text/x-python",
   "name": "python",
   "nbconvert_exporter": "python",
   "pygments_lexer": "ipython3",
   "version": "3.8.10"
  }
 },
 "nbformat": 4,
 "nbformat_minor": 5
}
