{
 "cells": [
  {
   "cell_type": "markdown",
   "id": "7baa368b",
   "metadata": {},
   "source": [
    "### Listing the files in the SFTP server"
   ]
  },
  {
   "cell_type": "code",
   "execution_count": null,
   "id": "ad350de1",
   "metadata": {},
   "outputs": [],
   "source": [
    "import pysftp\n",
    "\n",
    "host = \"test.rebex.net\"\n",
    "username = \"demo\"\n",
    "password = \"password\"\n",
    "\n",
    "with pysftp.Connection(host=host, username=username, password=password) as sftp:\n",
    "    print(\"Connection successfully established ... \")\n",
    "    \n",
    "    # Switch to a remote directory\n",
    "    sftp.cwd('pub/example/')\n",
    "    \n",
    "    # Obtain structure of the remote directory '/pub/example’\n",
    "    directory_structure = sftp.listdir_attr()\n",
    "\n",
    "    # Print data\n",
    "    for attr in directory_structure:\n",
    "        print(attr.filename, attr)"
   ]
  },
  {
   "cell_type": "markdown",
   "id": "deaf96b4",
   "metadata": {},
   "source": [
    "### Downloading the README.md file from the SFTP server"
   ]
  },
  {
   "cell_type": "code",
   "execution_count": null,
   "id": "2022414f",
   "metadata": {},
   "outputs": [],
   "source": [
    "import pysftp\n",
    "\n",
    "host = \"test.rebex.net\"\n",
    "username = \"demo\"\n",
    "password = \"password\"\n",
    "\n",
    "with pysftp.Connection(host=host, username=username, password=password) as sftp:\n",
    "    print(\"Connection successfully established ... \")\n",
    "    \n",
    "    # Switch to a remote directory\n",
    "    sftp.cwd('pub/example/')\n",
    "    print(\"Changing to pub/example directory... \")\n",
    "\n",
    "    sftp.get('readme.txt', 'readme.txt')\n",
    "    print(\"File downloaded ... \")\n",
    "    sftp.close()"
   ]
  }
 ],
 "metadata": {
  "kernelspec": {
   "display_name": "Python 3 (ipykernel)",
   "language": "python",
   "name": "python3"
  },
  "language_info": {
   "codemirror_mode": {
    "name": "ipython",
    "version": 3
   },
   "file_extension": ".py",
   "mimetype": "text/x-python",
   "name": "python",
   "nbconvert_exporter": "python",
   "pygments_lexer": "ipython3",
   "version": "3.8.10"
  }
 },
 "nbformat": 4,
 "nbformat_minor": 5
}
