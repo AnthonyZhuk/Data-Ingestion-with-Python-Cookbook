{
 "cells": [
  {
   "cell_type": "code",
   "execution_count": null,
   "id": "77d08a7d",
   "metadata": {},
   "outputs": [],
   "source": [
    "# Make sure you have the SparkSession described in the chapter README initialized"
   ]
  },
  {
   "cell_type": "code",
   "execution_count": null,
   "id": "349b6d50",
   "metadata": {},
   "outputs": [],
   "source": [
    "df = spark.read.parquet('chapter7_parquet_files/')"
   ]
  },
  {
   "cell_type": "code",
   "execution_count": null,
   "id": "0a9e03b8",
   "metadata": {},
   "outputs": [],
   "source": [
    "df.groupBy(\"vendorId\").count().orderBy(\"vendorId\").show()"
   ]
  },
  {
   "cell_type": "code",
   "execution_count": null,
   "id": "a64c85eb",
   "metadata": {},
   "outputs": [],
   "source": [
    "from pyspark.sql.functions import year, month, dayofmonth\n",
    "df.groupBy(hour(\"tpep_pickup_datetime\")).count().orderBy(\"count\").show()\n"
   ]
  },
  {
   "cell_type": "code",
   "execution_count": null,
   "id": "69abd17e",
   "metadata": {},
   "outputs": [],
   "source": [
    "# There is more\n",
    "df.createOrReplaceTempView(\"ny_yellow_taxi_data\")\n",
    "\n",
    "vendor_groupby = spark.sql(\n",
    "\"\"\"\n",
    "SELECT vendorId, COUNT(*) FROM ny_yellow_taxi_data\n",
    "GROUP BY vendorId\n",
    "ORDER BY COUNT(*)\n",
    "\"\"\"\n",
    ")\n"
   ]
  },
  {
   "cell_type": "code",
   "execution_count": null,
   "id": "858a2b06",
   "metadata": {},
   "outputs": [],
   "source": [
    "vendor_groupby.show()"
   ]
  }
 ],
 "metadata": {
  "kernelspec": {
   "display_name": "Python 3 (ipykernel)",
   "language": "python",
   "name": "python3"
  },
  "language_info": {
   "codemirror_mode": {
    "name": "ipython",
    "version": 3
   },
   "file_extension": ".py",
   "mimetype": "text/x-python",
   "name": "python",
   "nbconvert_exporter": "python",
   "pygments_lexer": "ipython3",
   "version": "3.8.10"
  }
 },
 "nbformat": 4,
 "nbformat_minor": 5
}
