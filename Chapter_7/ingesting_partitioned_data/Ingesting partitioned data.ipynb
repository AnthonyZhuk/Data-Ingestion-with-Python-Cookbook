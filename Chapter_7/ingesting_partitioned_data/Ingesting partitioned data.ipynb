{
 "cells": [
  {
   "cell_type": "code",
   "execution_count": null,
   "id": "18383ca8",
   "metadata": {},
   "outputs": [],
   "source": [
    "# Make sure you have the SparkSession described in the chapter README initialized"
   ]
  },
  {
   "cell_type": "code",
   "execution_count": null,
   "id": "f44846f1",
   "metadata": {},
   "outputs": [],
   "source": [
    "df_partitioned = spark.read.parquet(\"../chapter7_partitioned_files/month=2/\")"
   ]
  },
  {
   "cell_type": "code",
   "execution_count": null,
   "id": "182b576a",
   "metadata": {},
   "outputs": [],
   "source": [
    "df_partitioned.toPandas()"
   ]
  }
 ],
 "metadata": {
  "kernelspec": {
   "display_name": "Python 3 (ipykernel)",
   "language": "python",
   "name": "python3"
  },
  "language_info": {
   "codemirror_mode": {
    "name": "ipython",
    "version": 3
   },
   "file_extension": ".py",
   "mimetype": "text/x-python",
   "name": "python",
   "nbconvert_exporter": "python",
   "pygments_lexer": "ipython3",
   "version": "3.8.10"
  }
 },
 "nbformat": 4,
 "nbformat_minor": 5
}
