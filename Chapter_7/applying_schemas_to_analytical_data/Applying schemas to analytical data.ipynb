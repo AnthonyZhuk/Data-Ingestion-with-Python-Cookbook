{
 "cells": [
  {
   "cell_type": "code",
   "execution_count": null,
   "id": "3dc2f438",
   "metadata": {},
   "outputs": [],
   "source": [
    "# Make sure you have the SparkSession described in the chapter README initialized"
   ]
  },
  {
   "cell_type": "code",
   "execution_count": null,
   "id": "2a206b1b",
   "metadata": {},
   "outputs": [],
   "source": [
    "#  VendorID: long\n",
    "#  tpep_pickup_datetime: timestamp\n",
    "#  tpep_dropoff_datetime: timestamp\n",
    "#  passenger_count: double\n",
    "#  trip_distance: double\n",
    "#  RatecodeID: double\n",
    "#  store_and_fwd_flag: string\n",
    "#  PULocationID: long\n",
    "#  DOLocationID: long\n",
    "#  payment_type: long\n",
    "#  fare_amount: double\n",
    "#  extra: double\n",
    "#  mta_tax: double\n",
    "#  tip_amount: double\n",
    "#  tolls_amount: double\n",
    "#  improvement_surcharge: double\n",
    "#  total_amount: double\n",
    "#  congestion_surcharge: double\n"
   ]
  },
  {
   "cell_type": "code",
   "execution_count": null,
   "id": "256ebafe",
   "metadata": {},
   "outputs": [],
   "source": [
    "from pyspark.sql.types import StructType, StructField, StringType, LongType, DoubleType, TimestampType\n",
    "schema = StructType([ \\\n",
    "    StructField(\"vendorId\", LongType() ,True), \\\n",
    "    StructField(\"tpep_pickup_datetime\", TimestampType() ,True), \\\n",
    "    StructField(\"tpep_dropoff_datetime\", TimestampType() ,True), \\\n",
    "    StructField(\"passenger_count\", DoubleType() ,True), \\\n",
    "    StructField(\"trip_distance\", DoubleType() ,True), \\\n",
    "    StructField(\"ratecodeId\", DoubleType() ,True), \\\n",
    "    StructField(\"store_and_fwd_flag\", StringType() ,True), \\\n",
    "    StructField(\"puLocationId\", LongType() ,True), \\\n",
    "    StructField(\"doLocationId\", LongType() ,True), \\\n",
    "    StructField(\"payment_type\", LongType() ,True), \\\n",
    "    StructField(\"fare_amount\", DoubleType() ,True), \\\n",
    "    StructField(\"extra\", DoubleType() ,True), \\\n",
    "    StructField(\"mta_tax\", DoubleType() ,True), \\\n",
    "    StructField(\"tip_amount\", DoubleType() ,True), \\\n",
    "    StructField(\"tolls_amount\", DoubleType() ,True), \\\n",
    "    StructField(\"improvement_surcharge\", DoubleType() ,True), \\\n",
    "    StructField(\"total_amount\", DoubleType() ,True), \\\n",
    "    StructField(\"congestion_surcharge\", DoubleType() ,True), \\\n",
    "    StructField(\"airport_fee\", DoubleType() ,True), \\\n",
    "])\n"
   ]
  },
  {
   "cell_type": "code",
   "execution_count": null,
   "id": "2474ea74",
   "metadata": {},
   "outputs": [],
   "source": [
    "df_new_schema = spark.read.schema(schema).parquet('../chapter7_parquet_files/yellow_tripdata_2022-01.parquet')"
   ]
  },
  {
   "cell_type": "code",
   "execution_count": null,
   "id": "7bc1969b",
   "metadata": {},
   "outputs": [],
   "source": [
    "df_new_schema.printSchema()"
   ]
  },
  {
   "cell_type": "code",
   "execution_count": null,
   "id": "7cd49b02",
   "metadata": {},
   "outputs": [],
   "source": [
    "df_new_schema.toPandas().head(10)"
   ]
  }
 ],
 "metadata": {
  "kernelspec": {
   "display_name": "Python 3 (ipykernel)",
   "language": "python",
   "name": "python3"
  },
  "language_info": {
   "codemirror_mode": {
    "name": "ipython",
    "version": 3
   },
   "file_extension": ".py",
   "mimetype": "text/x-python",
   "name": "python",
   "nbconvert_exporter": "python",
   "pygments_lexer": "ipython3",
   "version": "3.8.10"
  }
 },
 "nbformat": 4,
 "nbformat_minor": 5
}
