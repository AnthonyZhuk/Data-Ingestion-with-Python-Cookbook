{
 "cells": [
  {
   "cell_type": "code",
   "execution_count": null,
   "id": "8e37188e",
   "metadata": {},
   "outputs": [],
   "source": [
    "from pyspark.sql import SparkSession\n",
    "spark = SparkSession.builder \\\n",
    "      .master(\"local[1]\") \\\n",
    "      .appName(\"chapter7_analytical_data_avro\") \\\n",
    "      .config(\"spark.executor.memory\", '3g') \\\n",
    "      .config(\"spark.executor.cores\", '2') \\\n",
    "      .config(\"spark.cores.max\", '2') \\\n",
    "      .config(\"spark.jars.packages\", 'org.apache.spark:spark-avro_2.12:2.4.4') \\\n",
    "      .getOrCreate()\n"
   ]
  },
  {
   "cell_type": "code",
   "execution_count": null,
   "id": "6c4feedc",
   "metadata": {},
   "outputs": [],
   "source": [
    "df = spark.read.format('avro').load('../chapter7_avro_files/file.avro')"
   ]
  },
  {
   "cell_type": "code",
   "execution_count": null,
   "id": "7dc99302",
   "metadata": {},
   "outputs": [],
   "source": [
    "df.printSchema()"
   ]
  }
 ],
 "metadata": {
  "kernelspec": {
   "display_name": "Python 3 (ipykernel)",
   "language": "python",
   "name": "python3"
  },
  "language_info": {
   "codemirror_mode": {
    "name": "ipython",
    "version": 3
   },
   "file_extension": ".py",
   "mimetype": "text/x-python",
   "name": "python",
   "nbconvert_exporter": "python",
   "pygments_lexer": "ipython3",
   "version": "3.8.10"
  }
 },
 "nbformat": 4,
 "nbformat_minor": 5
}
