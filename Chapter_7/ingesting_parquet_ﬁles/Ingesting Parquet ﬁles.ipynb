{
 "cells": [
  {
   "cell_type": "code",
   "execution_count": null,
   "id": "4d3aaba1",
   "metadata": {},
   "outputs": [],
   "source": [
    "# Passing only one file\n",
    "# df = spark.read.parquet('chapter7_parquet_files/yellow_tripdata_2022-01.parquet')"
   ]
  },
  {
   "cell_type": "code",
   "execution_count": null,
   "id": "abf5459c",
   "metadata": {},
   "outputs": [],
   "source": [
    "df = spark.read.parquet('../chapter7_parquet_files/')"
   ]
  },
  {
   "cell_type": "code",
   "execution_count": null,
   "id": "4ef8507a",
   "metadata": {},
   "outputs": [],
   "source": [
    "df.printSchema()"
   ]
  },
  {
   "cell_type": "code",
   "execution_count": null,
   "id": "a7202fcb",
   "metadata": {},
   "outputs": [],
   "source": [
    "df.toPandas().head(10)"
   ]
  }
 ],
 "metadata": {
  "kernelspec": {
   "display_name": "Python 3 (ipykernel)",
   "language": "python",
   "name": "python3"
  },
  "language_info": {
   "codemirror_mode": {
    "name": "ipython",
    "version": 3
   },
   "file_extension": ".py",
   "mimetype": "text/x-python",
   "name": "python",
   "nbconvert_exporter": "python",
   "pygments_lexer": "ipython3",
   "version": "3.8.10"
  }
 },
 "nbformat": 4,
 "nbformat_minor": 5
}
