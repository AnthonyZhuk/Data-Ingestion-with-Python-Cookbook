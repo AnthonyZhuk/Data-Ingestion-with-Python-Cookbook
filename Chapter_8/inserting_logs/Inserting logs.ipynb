{
 "cells": [
  {
   "cell_type": "code",
   "execution_count": null,
   "id": "a149481c",
   "metadata": {},
   "outputs": [],
   "source": [
    "import csv\n",
    "import logging\n",
    "\n",
    "logging.basicConfig(filename='our_application.log', level=logging.INFO)"
   ]
  },
  {
   "cell_type": "code",
   "execution_count": null,
   "id": "c32eab72",
   "metadata": {},
   "outputs": [],
   "source": [
    "def get_csv_first_line (csv_file):\n",
    "    logging.info(f\"Starting function to read first line\")\n",
    "    try:\n",
    "        with open(csv_file, 'r') as file:\n",
    "            logging.info(f\" Opening and reading the CSV file\")\n",
    "            reader = csv.reader(file)\n",
    "            first_row = next(reader)\n",
    "        return first_row\n",
    "    except Exception as e:\n",
    "        logging.error(f\"Error when reading the CSV file: {e}\")\n",
    "        raise\n"
   ]
  },
  {
   "cell_type": "code",
   "execution_count": null,
   "id": "fe520beb",
   "metadata": {},
   "outputs": [],
   "source": [
    "get_csv_first_line(\"listings.csv\")"
   ]
  }
 ],
 "metadata": {
  "kernelspec": {
   "display_name": "Python 3 (ipykernel)",
   "language": "python",
   "name": "python3"
  },
  "language_info": {
   "codemirror_mode": {
    "name": "ipython",
    "version": 3
   },
   "file_extension": ".py",
   "mimetype": "text/x-python",
   "name": "python",
   "nbconvert_exporter": "python",
   "pygments_lexer": "ipython3",
   "version": "3.8.10"
  }
 },
 "nbformat": 4,
 "nbformat_minor": 5
}
