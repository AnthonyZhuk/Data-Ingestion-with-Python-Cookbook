{
 "cells": [
  {
   "cell_type": "code",
   "execution_count": null,
   "id": "e4b1cda6",
   "metadata": {},
   "outputs": [],
   "source": [
    "from pyspark.sql import SparkSession\n",
    "spark = SparkSession.builder \\\n",
    "      .master(\"local[1]\") \\\n",
    "      .appName(\"chapter8_monitoring\") \\\n",
    "      .config(\"spark.executor.memory\", '3g') \\\n",
    "      .config(\"spark.executor.cores\", '3') \\\n",
    "      .config(\"spark.cores.max\", '3') \\\n",
    "      .getOrCreate()\n"
   ]
  },
  {
   "cell_type": "code",
   "execution_count": null,
   "id": "f0de432f",
   "metadata": {},
   "outputs": [],
   "source": [
    "df_json = spark.read.option(\"multiline\",\"true\") \\\n",
    "                    .json('github_events.json')\n",
    "df_json.show()\n"
   ]
  },
  {
   "cell_type": "code",
   "execution_count": null,
   "id": "c64c3d0b",
   "metadata": {},
   "outputs": [],
   "source": []
  }
 ],
 "metadata": {
  "kernelspec": {
   "display_name": "Python 3 (ipykernel)",
   "language": "python",
   "name": "python3"
  },
  "language_info": {
   "codemirror_mode": {
    "name": "ipython",
    "version": 3
   },
   "file_extension": ".py",
   "mimetype": "text/x-python",
   "name": "python",
   "nbconvert_exporter": "python",
   "pygments_lexer": "ipython3",
   "version": "3.8.10"
  }
 },
 "nbformat": 4,
 "nbformat_minor": 5
}
