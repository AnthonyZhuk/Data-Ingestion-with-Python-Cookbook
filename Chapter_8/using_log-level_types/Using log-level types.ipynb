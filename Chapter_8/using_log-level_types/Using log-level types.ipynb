{
 "cells": [
  {
   "cell_type": "code",
   "execution_count": null,
   "id": "1a700080",
   "metadata": {},
   "outputs": [],
   "source": [
    "import csv\n",
    "import logging\n",
    "\n",
    "logging.basicConfig(filename='our_application.log', level=logging.DEBUG)\n"
   ]
  },
  {
   "cell_type": "code",
   "execution_count": null,
   "id": "a47135c5",
   "metadata": {},
   "outputs": [],
   "source": [
    "logging.debug(f\"Start testing function\")"
   ]
  },
  {
   "cell_type": "code",
   "execution_count": null,
   "id": "a07a764a",
   "metadata": {},
   "outputs": [],
   "source": [
    "def gets_csv_first_line (csv_file):\n",
    "    logging.info(f\"Starting function to read first line\")\n",
    "    try:\n",
    "        with open(csv_file, 'r') as file:\n",
    "            logging.info(f\"Reading file\")\n",
    "            reader = csv.reader(file)\n",
    "            first_row = next(reader)\n",
    "            logging.debug(f\"Finished without problems\")\n",
    "        return first_row\n",
    "    except Exception as e:\n",
    "        logging.debug(f\"Entered into a exception\")\n",
    "        logging.error(f\"Error when reading the CSV file: {e}\")\n",
    "        logging.critical(f\"This is a critical error, and the application needs to stop!\")\n",
    "        raise\n"
   ]
  },
  {
   "cell_type": "code",
   "execution_count": null,
   "id": "49003457",
   "metadata": {},
   "outputs": [],
   "source": [
    "logging.warning(f\"Starting the function to get the first line of a CSV\")\n",
    "gets_csv_first_line(\"listings.csv\")\n"
   ]
  }
 ],
 "metadata": {
  "kernelspec": {
   "display_name": "Python 3 (ipykernel)",
   "language": "python",
   "name": "python3"
  },
  "language_info": {
   "codemirror_mode": {
    "name": "ipython",
    "version": 3
   },
   "file_extension": ".py",
   "mimetype": "text/x-python",
   "name": "python",
   "nbconvert_exporter": "python",
   "pygments_lexer": "ipython3",
   "version": "3.8.10"
  }
 },
 "nbformat": 4,
 "nbformat_minor": 5
}
