{
 "cells": [
  {
   "cell_type": "code",
   "execution_count": 1,
   "id": "32ec0c7e",
   "metadata": {},
   "outputs": [],
   "source": [
    "import csv\n",
    "import logging\n",
    "\n",
    "logging.basicConfig(filename='our_application.log', level=logging.INFO)\n",
    "\n",
    "def gets_csv_first_line (csv_file):\n",
    "    logging.info(f\"Starting function to read first line\")\n",
    "    try:\n",
    "        with open(csv_file, 'r') as file:\n",
    "            logging.info(f\"Reading file\")\n",
    "            reader = csv.reader(file)\n",
    "            first_row = next(reader)\n",
    "        return first_row\n",
    "    except ValueError as e:\n",
    "        logging.error(f\"Error when reading the CSV file: {e}\")\n",
    "        raise"
   ]
  },
  {
   "cell_type": "code",
   "execution_count": 58,
   "id": "e9d8f39f",
   "metadata": {},
   "outputs": [],
   "source": [
    "try:\n",
    "    gets_csv_first_line(\"listings.csv\")\n",
    "except Exception as e:\n",
    "    logger.error(f\"Error: {e}\")"
   ]
  },
  {
   "cell_type": "code",
   "execution_count": 2,
   "id": "7741e0b1",
   "metadata": {},
   "outputs": [
    {
     "data": {
      "text/plain": [
       "['id',\n",
       " 'name',\n",
       " 'host_id',\n",
       " 'host_name',\n",
       " 'neighbourhood_group',\n",
       " 'neighbourhood',\n",
       " 'latitude',\n",
       " 'longitude',\n",
       " 'room_type',\n",
       " 'price',\n",
       " 'minimum_nights',\n",
       " 'number_of_reviews',\n",
       " 'last_review',\n",
       " 'reviews_per_month',\n",
       " 'calculated_host_listings_count',\n",
       " 'availability_365',\n",
       " 'number_of_reviews_ltm',\n",
       " 'license']"
      ]
     },
     "execution_count": 2,
     "metadata": {},
     "output_type": "execute_result"
    }
   ],
   "source": [
    "gets_csv_first_line(\"listings.csv\")"
   ]
  },
  {
   "cell_type": "code",
   "execution_count": 3,
   "id": "f716f34c",
   "metadata": {},
   "outputs": [],
   "source": [
    "import csv\n",
    "import logging\n",
    "\n",
    "logging.basicConfig(filename='our_application.log', \n",
    "                    level=logging.DEBUG, \n",
    "                    format=\"%(asctime)s - %(name)s - %(levelname)s - %(message)s\")\n",
    "\n",
    "\n",
    "def gets_csv_first_line (csv_file):\n",
    "    logging.info(f\"Starting function to read first line\")\n",
    "    try:\n",
    "        with open(csv_file, 'r') as file:\n",
    "            logging.info(f\"Reading file\")\n",
    "            reader = csv.reader(file)\n",
    "            first_row = next(reader)\n",
    "            logging.debug(f\"Finished without problems\")\n",
    "        return first_row\n",
    "    except Exception as e:\n",
    "        logging.debug(f\"Entered into a exception\")\n",
    "        logging.error(f\"Error when reading the CSV file: {e}\")\n",
    "        logging.critical(f\"This is a critical error, and the application needs to stop!\")\n",
    "        raise\n",
    "    "
   ]
  },
  {
   "cell_type": "code",
   "execution_count": 4,
   "id": "25fdb1f6",
   "metadata": {},
   "outputs": [
    {
     "data": {
      "text/plain": [
       "['id',\n",
       " 'name',\n",
       " 'host_id',\n",
       " 'host_name',\n",
       " 'neighbourhood_group',\n",
       " 'neighbourhood',\n",
       " 'latitude',\n",
       " 'longitude',\n",
       " 'room_type',\n",
       " 'price',\n",
       " 'minimum_nights',\n",
       " 'number_of_reviews',\n",
       " 'last_review',\n",
       " 'reviews_per_month',\n",
       " 'calculated_host_listings_count',\n",
       " 'availability_365',\n",
       " 'number_of_reviews_ltm',\n",
       " 'license']"
      ]
     },
     "execution_count": 4,
     "metadata": {},
     "output_type": "execute_result"
    }
   ],
   "source": [
    "logging.warning(f\"Starting the function to get the first line of a CSV\")\n",
    "gets_csv_first_line(\"listings.csv\")\n"
   ]
  },
  {
   "cell_type": "code",
   "execution_count": 1,
   "id": "00b9e906",
   "metadata": {},
   "outputs": [],
   "source": [
    "import csv\n",
    "import logging\n",
    "from logging import config\n",
    "\n",
    "# Loading configuration file\n",
    "config.fileConfig(\"logging.conf\")\n",
    "\n",
    "# Creates a log configuration\n",
    "logger = logging.getLogger(\"data_ingest\")\n",
    "\n",
    "def gets_csv_first_line (csv_file):\n",
    "    logger.debug(f\"Start testing function\")\n",
    "    logger.info(f\"Starting function to read first line\")\n",
    "    try:\n",
    "        with open(csv_file, 'r') as file:\n",
    "            logger.info(f\"Reading file\")\n",
    "            reader = csv.reader(file)\n",
    "            first_row = next(reader)\n",
    "            logger.debug(f\"Finished without problems\")\n",
    "        return first_row\n",
    "    except Exception as e:\n",
    "        logger.debug(f\"Entered into a exception\")\n",
    "        logger.error(f\"Error when reading the CSV file: {e}\")\n",
    "        logger.critical(f\"This is a critical error, and the application needs to stop!\")\n",
    "        raise\n"
   ]
  },
  {
   "cell_type": "code",
   "execution_count": 2,
   "id": "454b5502",
   "metadata": {},
   "outputs": [
    {
     "name": "stdout",
     "output_type": "stream",
     "text": [
      "2023-03-19 21:51:48,091 - data_ingest - DEBUG - Start testing function\n",
      "2023-03-19 21:51:48,092 - data_ingest - INFO - Starting function to read first line\n",
      "2023-03-19 21:51:48,093 - data_ingest - INFO - Reading file\n",
      "2023-03-19 21:51:48,094 - data_ingest - DEBUG - Finished without problems\n"
     ]
    },
    {
     "data": {
      "text/plain": [
       "['id',\n",
       " 'name',\n",
       " 'host_id',\n",
       " 'host_name',\n",
       " 'neighbourhood_group',\n",
       " 'neighbourhood',\n",
       " 'latitude',\n",
       " 'longitude',\n",
       " 'room_type',\n",
       " 'price',\n",
       " 'minimum_nights',\n",
       " 'number_of_reviews',\n",
       " 'last_review',\n",
       " 'reviews_per_month',\n",
       " 'calculated_host_listings_count',\n",
       " 'availability_365',\n",
       " 'number_of_reviews_ltm',\n",
       " 'license']"
      ]
     },
     "execution_count": 2,
     "metadata": {},
     "output_type": "execute_result"
    }
   ],
   "source": [
    "gets_csv_first_line(\"listings.csv\")"
   ]
  },
  {
   "cell_type": "code",
   "execution_count": 7,
   "id": "9879fa99",
   "metadata": {},
   "outputs": [],
   "source": [
    "import os\n",
    "\n",
    "def get_file_size(file_name, s_megabytes=False):\n",
    "    file_stats = os.stat(file_name)\n",
    "    if s_megabytes:\n",
    "        return f\"The file size in megabytes is: {file_stats.st_size / (1024 * 1024)}\"\n",
    "    return f\"The file size in bytes is: {file_stats.st_size}\""
   ]
  },
  {
   "cell_type": "code",
   "execution_count": 10,
   "id": "a6d253f3",
   "metadata": {},
   "outputs": [
    {
     "data": {
      "text/plain": [
       "'The file size in megabytes is: 0.9208612442016602'"
      ]
     },
     "execution_count": 10,
     "metadata": {},
     "output_type": "execute_result"
    }
   ],
   "source": [
    "file_name = \"listings.csv\"\n",
    "get_file_size(file_name, True)"
   ]
  },
  {
   "cell_type": "code",
   "execution_count": 11,
   "id": "96d17055",
   "metadata": {},
   "outputs": [
    {
     "data": {
      "text/plain": [
       "os.stat_result(st_mode=33188, st_ino=302194, st_dev=2064, st_nlink=1, st_uid=1000, st_gid=1000, st_size=965593, st_atime=1679223955, st_mtime=1668553769, st_ctime=1676313639)"
      ]
     },
     "execution_count": 11,
     "metadata": {},
     "output_type": "execute_result"
    }
   ],
   "source": [
    "os.stat(file_name)"
   ]
  },
  {
   "cell_type": "code",
   "execution_count": null,
   "id": "46963c70",
   "metadata": {},
   "outputs": [],
   "source": []
  }
 ],
 "metadata": {
  "kernelspec": {
   "display_name": "Python 3 (ipykernel)",
   "language": "python",
   "name": "python3"
  },
  "language_info": {
   "codemirror_mode": {
    "name": "ipython",
    "version": 3
   },
   "file_extension": ".py",
   "mimetype": "text/x-python",
   "name": "python",
   "nbconvert_exporter": "python",
   "pygments_lexer": "ipython3",
   "version": "3.8.10"
  }
 },
 "nbformat": 4,
 "nbformat_minor": 5
}
