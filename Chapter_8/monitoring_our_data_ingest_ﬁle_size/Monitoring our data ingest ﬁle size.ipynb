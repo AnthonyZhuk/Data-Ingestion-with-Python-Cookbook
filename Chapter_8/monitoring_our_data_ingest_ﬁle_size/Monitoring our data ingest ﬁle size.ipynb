{
 "cells": [
  {
   "cell_type": "code",
   "execution_count": null,
   "id": "5162502e",
   "metadata": {},
   "outputs": [],
   "source": [
    "import os"
   ]
  },
  {
   "cell_type": "code",
   "execution_count": null,
   "id": "dc7f1cbe",
   "metadata": {},
   "outputs": [],
   "source": [
    "def get_file_size(file_name, s_megabytes=False):\n",
    "    file_stats = os.stat(file_name)\n",
    "    if s_megabytes:\n",
    "        return f\"The file size in megabytes is: {file_stats.st_size / (1024 * 1024)}\"\n",
    "\n",
    "    return f\"The file size in bytes is: {file_stats.st_size}\""
   ]
  },
  {
   "cell_type": "code",
   "execution_count": null,
   "id": "9a899065",
   "metadata": {},
   "outputs": [],
   "source": [
    "file_name = \"listings.csv\"\n",
    "get_file_size(file_name)"
   ]
  }
 ],
 "metadata": {
  "kernelspec": {
   "display_name": "Python 3 (ipykernel)",
   "language": "python",
   "name": "python3"
  },
  "language_info": {
   "codemirror_mode": {
    "name": "ipython",
    "version": 3
   },
   "file_extension": ".py",
   "mimetype": "text/x-python",
   "name": "python",
   "nbconvert_exporter": "python",
   "pygments_lexer": "ipython3",
   "version": "3.8.10"
  }
 },
 "nbformat": 4,
 "nbformat_minor": 5
}
