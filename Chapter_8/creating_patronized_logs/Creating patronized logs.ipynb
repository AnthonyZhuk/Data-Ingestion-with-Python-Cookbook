{
 "cells": [
  {
   "cell_type": "code",
   "execution_count": null,
   "id": "e8965c89",
   "metadata": {},
   "outputs": [],
   "source": [
    "import csv\n",
    "import logging\n",
    "from logging import config\n",
    "\n",
    "# Loading configuration file\n",
    "config.fileConfig(\"logging.conf\")\n",
    "\n",
    "# Creates a log configuration\n",
    "logger = logging.getLogger(\"data_ingest\")\n"
   ]
  },
  {
   "cell_type": "code",
   "execution_count": null,
   "id": "5d0e6c20",
   "metadata": {},
   "outputs": [],
   "source": [
    "def gets_csv_first_line(csv_file):\n",
    "    logger.debug(f\"Start testing function\")\n",
    "    logger.info(f\"Starting function to read first line\")\n",
    "    try:\n",
    "        with open(csv_file, 'r') as file:\n",
    "            logger.info(f\"Reading file\")\n",
    "            reader = csv.reader(file)\n",
    "            first_row = next(reader)\n",
    "            logger.debug(f\"Finished without problems\")\n",
    "        return first_row\n",
    "    except Exception as e:\n",
    "        logger.debug(f\"Entered into a exception\")\n",
    "        logger.error(f\"Error when reading the CSV file: {e}\")\n",
    "        logger.critical(f\"This is a critical error, and the application needs to stop!\")\n",
    "        raise\n"
   ]
  },
  {
   "cell_type": "code",
   "execution_count": null,
   "id": "ce71c760",
   "metadata": {},
   "outputs": [],
   "source": [
    "gets_csv_first_line(\"listings.csv\")"
   ]
  }
 ],
 "metadata": {
  "kernelspec": {
   "display_name": "Python 3 (ipykernel)",
   "language": "python",
   "name": "python3"
  },
  "language_info": {
   "codemirror_mode": {
    "name": "ipython",
    "version": 3
   },
   "file_extension": ".py",
   "mimetype": "text/x-python",
   "name": "python",
   "nbconvert_exporter": "python",
   "pygments_lexer": "ipython3",
   "version": "3.8.10"
  }
 },
 "nbformat": 4,
 "nbformat_minor": 5
}
