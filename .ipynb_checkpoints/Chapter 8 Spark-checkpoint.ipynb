{
 "cells": [
  {
   "cell_type": "code",
   "execution_count": 1,
   "id": "32ec0c7e",
   "metadata": {},
   "outputs": [],
   "source": []
  },
  {
   "cell_type": "code",
   "execution_count": 58,
   "id": "e9d8f39f",
   "metadata": {},
   "outputs": [],
   "source": []
  },
  {
   "cell_type": "code",
   "execution_count": 10,
   "id": "7741e0b1",
   "metadata": {},
   "outputs": [],
   "source": [
    "import logging\n",
    "import sys\n",
    "\n",
    "\n",
    "def pysparkLogs(app_name, log_level=logging.INFO):\n",
    "    pyspark_logger = logging.getLogger(app_name)\n",
    "    pyspark_logger.setLevel(log_level)\n",
    "    \n",
    "    file_handler = logging.FileHandler(\"spam.log\")\n",
    "    handler = logging.StreamHandler(sys.stdout)\n",
    "    \n",
    "    handler.setLevel(log_level)\n",
    "\n",
    "    formatter = logging.Formatter('%(asctime)s - %(name)s - %(levelname)s - %(message)s')\n",
    "    handler.setFormatter(formatter)\n",
    "    handlers = [file_handler, handler]\n",
    "    pyspark_logger.addHandler(handlers)\n",
    "    \n",
    "    \n",
    "    \n",
    "#     logger = logging.getLogger()\n",
    "# logger.setLevel(logging.INFO)\n",
    "# formatter = logging.Formatter('%(asctime)s | %(levelname)s | %(message)s')\n",
    "\n",
    "# stdout_handler = logging.StreamHandler(sys.stdout)\n",
    "# stdout_handler.setLevel(logging.DEBUG)\n",
    "# stdout_handler.setFormatter(formatter)\n",
    "\n",
    "# file_handler = logging.FileHandler('logs.log')\n",
    "# file_handler.setLevel(logging.DEBUG)\n",
    "# file_handler.setFormatter(formatter)\n",
    "\n",
    "\n",
    "# logger.addHandler(file_handler)\n",
    "# logger.addHandler(stdout_handler)\n",
    "    \n",
    "    \n",
    "    \n",
    "    return pyspark_logger"
   ]
  },
  {
   "cell_type": "code",
   "execution_count": 2,
   "id": "002b1963",
   "metadata": {
    "scrolled": true
   },
   "outputs": [
    {
     "name": "stderr",
     "output_type": "stream",
     "text": [
      "23/03/16 22:32:46 WARN Utils: Your hostname, EVA-01 resolves to a loopback address: 127.0.1.1; using 172.22.163.5 instead (on interface eth0)\n",
      "23/03/16 22:32:46 WARN Utils: Set SPARK_LOCAL_IP if you need to bind to another address\n",
      "23/03/16 22:32:47 WARN NativeCodeLoader: Unable to load native-hadoop library for your platform... using builtin-java classes where applicable\n",
      "Using Spark's default log4j profile: org/apache/spark/log4j-defaults.properties\n",
      "Setting default log level to \"WARN\".\n",
      "To adjust logging level use sc.setLogLevel(newLevel). For SparkR, use setLogLevel(newLevel).\n"
     ]
    }
   ],
   "source": [
    "from pyspark.sql import SparkSession\n",
    "spark = SparkSession.builder \\\n",
    "      .master(\"local[1]\") \\\n",
    "      .appName(\"chapter8_monitoring\") \\\n",
    "      .config(\"spark.executor.memory\", '3g') \\\n",
    "      .config(\"spark.executor.cores\", '3') \\\n",
    "      .config(\"spark.cores.max\", '3') \\\n",
    "      .getOrCreate()"
   ]
  },
  {
   "cell_type": "code",
   "execution_count": 11,
   "id": "166b7731",
   "metadata": {},
   "outputs": [
    {
     "data": {
      "text/plain": [
       "<Logger test (INFO)>"
      ]
     },
     "execution_count": 11,
     "metadata": {},
     "output_type": "execute_result"
    }
   ],
   "source": [
    "pysparkLogs(\"test\")"
   ]
  },
  {
   "cell_type": "code",
   "execution_count": null,
   "id": "af3c8483",
   "metadata": {},
   "outputs": [],
   "source": [
    "pysparkLogs(\"test\")"
   ]
  }
 ],
 "metadata": {
  "kernelspec": {
   "display_name": "Python 3 (ipykernel)",
   "language": "python",
   "name": "python3"
  },
  "language_info": {
   "codemirror_mode": {
    "name": "ipython",
    "version": 3
   },
   "file_extension": ".py",
   "mimetype": "text/x-python",
   "name": "python",
   "nbconvert_exporter": "python",
   "pygments_lexer": "ipython3",
   "version": "3.8.10"
  }
 },
 "nbformat": 4,
 "nbformat_minor": 5
}
