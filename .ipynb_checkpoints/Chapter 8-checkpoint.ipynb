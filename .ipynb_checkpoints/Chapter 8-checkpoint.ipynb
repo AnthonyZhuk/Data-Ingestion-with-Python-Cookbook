{
 "cells": [
  {
   "cell_type": "code",
   "execution_count": 57,
   "id": "32ec0c7e",
   "metadata": {},
   "outputs": [],
   "source": [
    "import csv\n",
    "import logging\n",
    "\n",
    "logging.basicConfig(filename='our_application.log', level=logging.INFO)\n",
    "\n",
    "def gets_csv_first_line (csv_file):\n",
    "    logging.info(f\"Starting function to read first line\")\n",
    "    try:\n",
    "        with open(csv_file, 'r') as file:\n",
    "            logging.info(f\"Reading file\")\n",
    "            reader = csv.reader(file)\n",
    "            first_row = next(reader)\n",
    "        return first_row\n",
    "    except ValueError as e:\n",
    "        logging.error(f\"Error when reading the CSV file: {e}\")\n",
    "        raise"
   ]
  },
  {
   "cell_type": "code",
   "execution_count": 58,
   "id": "e9d8f39f",
   "metadata": {},
   "outputs": [],
   "source": [
    "try:\n",
    "    gets_csv_first_line(\"listings.csv\")\n",
    "except Exception as e:\n",
    "    logger.error(f\"Error: {e}\")"
   ]
  },
  {
   "cell_type": "code",
   "execution_count": 59,
   "id": "7741e0b1",
   "metadata": {},
   "outputs": [
    {
     "data": {
      "text/plain": [
       "['id',\n",
       " 'name',\n",
       " 'host_id',\n",
       " 'host_name',\n",
       " 'neighbourhood_group',\n",
       " 'neighbourhood',\n",
       " 'latitude',\n",
       " 'longitude',\n",
       " 'room_type',\n",
       " 'price',\n",
       " 'minimum_nights',\n",
       " 'number_of_reviews',\n",
       " 'last_review',\n",
       " 'reviews_per_month',\n",
       " 'calculated_host_listings_count',\n",
       " 'availability_365',\n",
       " 'number_of_reviews_ltm',\n",
       " 'license']"
      ]
     },
     "execution_count": 59,
     "metadata": {},
     "output_type": "execute_result"
    }
   ],
   "source": [
    "gets_csv_first_line(\"listings.csv\")"
   ]
  },
  {
   "cell_type": "code",
   "execution_count": null,
   "id": "002b1963",
   "metadata": {},
   "outputs": [],
   "source": []
  }
 ],
 "metadata": {
  "kernelspec": {
   "display_name": "Python 3 (ipykernel)",
   "language": "python",
   "name": "python3"
  },
  "language_info": {
   "codemirror_mode": {
    "name": "ipython",
    "version": 3
   },
   "file_extension": ".py",
   "mimetype": "text/x-python",
   "name": "python",
   "nbconvert_exporter": "python",
   "pygments_lexer": "ipython3",
   "version": "3.8.10"
  }
 },
 "nbformat": 4,
 "nbformat_minor": 5
}
