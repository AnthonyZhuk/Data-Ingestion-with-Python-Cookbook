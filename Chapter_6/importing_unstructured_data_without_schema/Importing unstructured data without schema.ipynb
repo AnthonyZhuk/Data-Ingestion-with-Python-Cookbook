{
 "cells": [
  {
   "cell_type": "code",
   "execution_count": null,
   "id": "209b7b7e",
   "metadata": {},
   "outputs": [],
   "source": [
    "# Make sure you have the SparkSession initialized"
   ]
  },
  {
   "cell_type": "code",
   "execution_count": null,
   "id": "601916b4",
   "metadata": {},
   "outputs": [],
   "source": [
    "df_json = spark.read.option(\"multiline\",\"true\") \\\n",
    "                    .json('holiday_brazil.json')"
   ]
  },
  {
   "cell_type": "code",
   "execution_count": null,
   "id": "eee39573",
   "metadata": {},
   "outputs": [],
   "source": [
    "df_json.printSchema()"
   ]
  },
  {
   "cell_type": "code",
   "execution_count": null,
   "id": "f459df4e",
   "metadata": {},
   "outputs": [],
   "source": [
    "df_json.toPandas()"
   ]
  }
 ],
 "metadata": {
  "kernelspec": {
   "display_name": "Python 3 (ipykernel)",
   "language": "python",
   "name": "python3"
  },
  "language_info": {
   "codemirror_mode": {
    "name": "ipython",
    "version": 3
   },
   "file_extension": ".py",
   "mimetype": "text/x-python",
   "name": "python",
   "nbconvert_exporter": "python",
   "pygments_lexer": "ipython3",
   "version": "3.8.10"
  }
 },
 "nbformat": 4,
 "nbformat_minor": 5
}
