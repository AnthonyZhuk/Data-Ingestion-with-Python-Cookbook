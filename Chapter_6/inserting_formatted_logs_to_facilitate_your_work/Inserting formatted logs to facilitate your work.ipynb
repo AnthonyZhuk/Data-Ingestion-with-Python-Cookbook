{
 "cells": [
  {
   "cell_type": "code",
   "execution_count": null,
   "id": "7549885d",
   "metadata": {},
   "outputs": [],
   "source": [
    "# Make sure you have the SparkSession initialized"
   ]
  },
  {
   "cell_type": "code",
   "execution_count": null,
   "id": "34b56c50",
   "metadata": {},
   "outputs": [],
   "source": [
    "spark.sparkContext.setLogLevel(\"INFO\")"
   ]
  },
  {
   "cell_type": "code",
   "execution_count": null,
   "id": "2d9de304",
   "metadata": {},
   "outputs": [],
   "source": [
    "Logger= spark._jvm.org.apache.log4j.Logger\n",
    "syslogger = Logger.getLogger(__name__)\n"
   ]
  },
  {
   "cell_type": "code",
   "execution_count": null,
   "id": "2b9c4c21",
   "metadata": {},
   "outputs": [],
   "source": [
    "syslogger.error(\"Error message sample\")\n",
    "syslogger.info(\"Info message sample\")\n"
   ]
  },
  {
   "cell_type": "code",
   "execution_count": null,
   "id": "d9061c05",
   "metadata": {},
   "outputs": [],
   "source": [
    "try:\n",
    "    df = spark.read.options(header=True, sep=',', \n",
    "                              multiLine=True, escape='\"',\n",
    "                             inferSchema=True) \\\n",
    "                    .csv('listings.csv')\n",
    "except Exception as e:\n",
    "    syslogger.error(f\"Error message: {e}\")\n"
   ]
  },
  {
   "cell_type": "code",
   "execution_count": null,
   "id": "9f98a1e8",
   "metadata": {},
   "outputs": [],
   "source": []
  }
 ],
 "metadata": {
  "kernelspec": {
   "display_name": "Python 3 (ipykernel)",
   "language": "python",
   "name": "python3"
  },
  "language_info": {
   "codemirror_mode": {
    "name": "ipython",
    "version": 3
   },
   "file_extension": ".py",
   "mimetype": "text/x-python",
   "name": "python",
   "nbconvert_exporter": "python",
   "pygments_lexer": "ipython3",
   "version": "3.8.10"
  }
 },
 "nbformat": 4,
 "nbformat_minor": 5
}
