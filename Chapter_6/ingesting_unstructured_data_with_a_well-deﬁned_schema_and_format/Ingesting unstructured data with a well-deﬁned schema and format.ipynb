{
 "cells": [
  {
   "cell_type": "code",
   "execution_count": null,
   "id": "f7bc425f",
   "metadata": {},
   "outputs": [],
   "source": [
    "# Make sure you have the SparkSession initialized"
   ]
  },
  {
   "cell_type": "code",
   "execution_count": null,
   "id": "b27b6582",
   "metadata": {},
   "outputs": [],
   "source": [
    "from pyspark.sql.types import StructType, ArrayType, StructField, StringType, IntegerType, MapType"
   ]
  },
  {
   "cell_type": "code",
   "execution_count": null,
   "id": "7c387f99",
   "metadata": {},
   "outputs": [],
   "source": [
    "schema = StructType([ \\\n",
    "        StructField('status', StringType(), True),\n",
    "        StructField('holidays', ArrayType(\n",
    "            StructType([\n",
    "                StructField('name', StringType(), True),\n",
    "                StructField('date', DateType(), True),\n",
    "                StructField('observed', StringType(), True),\n",
    "                StructField('public', StringType(), True),\n",
    "                StructField('country', StringType(), True),\n",
    "                StructField('uuid', StringType(), True),\n",
    "                StructField('weekday', MapType(StringType(), MapType(StringType(),StringType(),True),True))\n",
    "            ])\n",
    "        ))\n",
    "    ])\n"
   ]
  },
  {
   "cell_type": "code",
   "execution_count": null,
   "id": "f55359d8",
   "metadata": {},
   "outputs": [],
   "source": [
    "df_json = spark.read.option(\"multiline\",\"true\") \\\n",
    "                    .schema(schema) \\\n",
    "                    .json('holiday_brazil.json')\n"
   ]
  },
  {
   "cell_type": "code",
   "execution_count": null,
   "id": "35a2ab93",
   "metadata": {},
   "outputs": [],
   "source": [
    "from pyspark.sql.functions import explode\n",
    "\n",
    "exploded_json = df_json.select('status', explode(\"holidays\").alias(\"holidaysExplode\"))\\\n",
    "        .select(\"status\", \"holidaysExplode.*\")\n"
   ]
  },
  {
   "cell_type": "code",
   "execution_count": null,
   "id": "70bc6290",
   "metadata": {},
   "outputs": [],
   "source": [
    "exploded_json2 = exploded_json.select(\"*\", explode('weekday').alias('weekday_type', 'weekday_objects'))"
   ]
  },
  {
   "cell_type": "code",
   "execution_count": null,
   "id": "6dc3e278",
   "metadata": {},
   "outputs": [],
   "source": [
    "exploded_json2.toPandas()"
   ]
  }
 ],
 "metadata": {
  "kernelspec": {
   "display_name": "Python 3 (ipykernel)",
   "language": "python",
   "name": "python3"
  },
  "language_info": {
   "codemirror_mode": {
    "name": "ipython",
    "version": 3
   },
   "file_extension": ".py",
   "mimetype": "text/x-python",
   "name": "python",
   "nbconvert_exporter": "python",
   "pygments_lexer": "ipython3",
   "version": "3.8.10"
  }
 },
 "nbformat": 4,
 "nbformat_minor": 5
}
