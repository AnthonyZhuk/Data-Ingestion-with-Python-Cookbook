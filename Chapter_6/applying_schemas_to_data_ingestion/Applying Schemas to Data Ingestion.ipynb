{
 "cells": [
  {
   "cell_type": "code",
   "execution_count": null,
   "id": "5455177f",
   "metadata": {},
   "outputs": [],
   "source": [
    "from pyspark.sql import SparkSession\n",
    "spark = SparkSession.builder \\\n",
    "      .master(\"local[1]\") \\\n",
    "      .appName(\"chapter6_schemas\") \\\n",
    "      .config(\"spark.executor.memory\", '3g') \\\n",
    "      .config(\"spark.executor.cores\", '1') \\\n",
    "      .config(\"spark.cores.max\", '1') \\\n",
    "      .getOrCreate()"
   ]
  },
  {
   "cell_type": "code",
   "execution_count": null,
   "id": "5f67eee4",
   "metadata": {},
   "outputs": [],
   "source": [
    "my_data = [(\"3456\",\"Cristian\",\"Rayner\",30,\"M\"),\n",
    "            (\"3567\",\"Guto\",\"Flower\",35,\"M\"),\n",
    "            (\"9867\",\"Yasmin\",\"Novak\",23,\"F\"),\n",
    "            (\"3342\",\"Tayla\",\"Mejia\",45,\"F\"),\n",
    "            (\"8890\",\"Barbara\",\"Kumar\",20,\"F\")\n",
    "            ]"
   ]
  },
  {
   "cell_type": "code",
   "execution_count": null,
   "id": "5aa7472a",
   "metadata": {},
   "outputs": [],
   "source": [
    "from pyspark.sql.types import StructType, If StructField, StringType, IntegerType\n",
    "schema = StructType([ \\\n",
    "    StructField(\"id\",StringType(),True), \\\n",
    "    StructField(\"name\",StringType(),True), \\\n",
    "    StructField(\"lastname\",StringType(),True), \\\n",
    "    StructField(\"age\", IntegerType(), True), \\\n",
    "    StructField(\"gender\", StringType(), True), \\\n",
    "  ])\n"
   ]
  },
  {
   "cell_type": "code",
   "execution_count": null,
   "id": "1da414e8",
   "metadata": {},
   "outputs": [],
   "source": [
    "df = spark.createDataFrame(data=my_data,schema=schema)"
   ]
  },
  {
   "cell_type": "code",
   "execution_count": null,
   "id": "c44fa58a",
   "metadata": {},
   "outputs": [],
   "source": []
  }
 ],
 "metadata": {
  "kernelspec": {
   "display_name": "Python 3 (ipykernel)",
   "language": "python",
   "name": "python3"
  },
  "language_info": {
   "codemirror_mode": {
    "name": "ipython",
    "version": 3
   },
   "file_extension": ".py",
   "mimetype": "text/x-python",
   "name": "python",
   "nbconvert_exporter": "python",
   "pygments_lexer": "ipython3",
   "version": "3.8.10"
  }
 },
 "nbformat": 4,
 "nbformat_minor": 5
}
