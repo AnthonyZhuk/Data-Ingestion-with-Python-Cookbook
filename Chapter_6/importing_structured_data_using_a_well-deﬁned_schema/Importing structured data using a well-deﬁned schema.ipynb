{
 "cells": [
  {
   "cell_type": "code",
   "execution_count": null,
   "id": "c538e1ce",
   "metadata": {},
   "outputs": [],
   "source": [
    "# Make sure you have the SparkSession initialized"
   ]
  },
  {
   "cell_type": "code",
   "execution_count": null,
   "id": "058c0935",
   "metadata": {},
   "outputs": [],
   "source": [
    "from pyspark.sql.types import StructType, StructField, StringType, IntegerType, FloatType, DateType"
   ]
  },
  {
   "cell_type": "code",
   "execution_count": null,
   "id": "cc42b94e",
   "metadata": {},
   "outputs": [],
   "source": [
    "schema = StructType([ \\\n",
    "    StructField(\"id\",IntegerType(),True), \\\n",
    "    StructField(\"name\",StringType(),True), \\\n",
    "    StructField(\"host_id\",IntegerType(),True), \\\n",
    "    StructField(\"host_name\",StringType(),True), \\\n",
    "    StructField(\"neighbourhood_group\",StringType(),True), \\\n",
    "    StructField(\"neighbourhood\",StringType(),True), \\\n",
    "    StructField(\"latitude\",DoubleType(),True), \\\n",
    "    StructField(\"longitude\",DoubleType(),True), \\\n",
    "    StructField(\"room_type\",StringType(),True), \\\n",
    "    StructField(\"price\",FloatType(),True), \\\n",
    "    StructField(\"minimum_nights\",IntegerType(),True), \\\n",
    "    StructField(\"number_of_reviews\",IntegerType(),True), \\\n",
    "    StructField(\"last_review\",DateType(),True), \\\n",
    "    StructField(\"reviews_per_month\",FloatType(),True), \\\n",
    "      StructField(\"calculated_host_listings_count\",IntegerType(),True), \\\n",
    "    StructField(\"availability_365\",IntegerType(),True), \\\n",
    "    StructField(\"number_of_reviews_ltm\",IntegerType(),True), \\\n",
    "    StructField(\"license\",StringType(),True)\n",
    "  ])\n"
   ]
  },
  {
   "cell_type": "code",
   "execution_count": null,
   "id": "4351d05e",
   "metadata": {},
   "outputs": [],
   "source": [
    "df = spark.read.options(header=True, sep=',', \n",
    "                          multiLine=True, escape='\"')\\\n",
    "                .schema(schema) \\\n",
    "                .csv('listings.csv')\n"
   ]
  },
  {
   "cell_type": "code",
   "execution_count": null,
   "id": "240a6daa",
   "metadata": {},
   "outputs": [],
   "source": [
    "df.printSchema()"
   ]
  },
  {
   "cell_type": "code",
   "execution_count": null,
   "id": "8aadef87",
   "metadata": {},
   "outputs": [],
   "source": [
    "# There is more...\n",
    "df_2 = spark.read.options(header=True, sep=',', \n",
    "                          multiLine=True, escape='\"',\n",
    "                         inferSchema=True) \\\n",
    "                .csv('listings.csv')"
   ]
  }
 ],
 "metadata": {
  "kernelspec": {
   "display_name": "Python 3 (ipykernel)",
   "language": "python",
   "name": "python3"
  },
  "language_info": {
   "codemirror_mode": {
    "name": "ipython",
    "version": 3
   },
   "file_extension": ".py",
   "mimetype": "text/x-python",
   "name": "python",
   "nbconvert_exporter": "python",
   "pygments_lexer": "ipython3",
   "version": "3.8.10"
  }
 },
 "nbformat": 4,
 "nbformat_minor": 5
}
