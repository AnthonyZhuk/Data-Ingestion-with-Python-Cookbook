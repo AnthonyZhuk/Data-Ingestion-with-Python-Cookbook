{
 "cells": [
  {
   "cell_type": "code",
   "execution_count": null,
   "id": "1f7a6b93",
   "metadata": {},
   "outputs": [],
   "source": [
    "from pyspark.sql import SparkSession"
   ]
  },
  {
   "cell_type": "code",
   "execution_count": null,
   "id": "cd674d1e",
   "metadata": {},
   "outputs": [],
   "source": [
    "spark = SparkSession.builder \\\n",
    "      .master(\"local[1]\") \\\n",
    "      .appName(\"DataIngestion_CSV\") \\\n",
    "      .config(\"spark.executor.memory\", '3g') \\\n",
    "      .config(\"spark.executor.cores\", '1') \\\n",
    "      .config(\"spark.cores.max\", '1') \\\n",
    "      .getOrCreate()"
   ]
  },
  {
   "cell_type": "code",
   "execution_count": null,
   "id": "dad2fca7",
   "metadata": {},
   "outputs": [],
   "source": [
    "df = spark.read.options(header= 'True', \n",
    "                       sep=',', \n",
    "                       inferSchema='True') \\\n",
    "                .csv('../spotify_data.csv')"
   ]
  },
  {
   "cell_type": "code",
   "execution_count": null,
   "id": "b0a43c4d",
   "metadata": {},
   "outputs": [],
   "source": [
    "df.show()"
   ]
  },
  {
   "cell_type": "code",
   "execution_count": null,
   "id": "49bfa390",
   "metadata": {},
   "outputs": [],
   "source": [
    "# Setting a different separator\n",
    "df_pipe = spark.read.options(header= 'True', \n",
    "                       sep='|', \n",
    "                       inferSchema='True') \\\n",
    "                .csv('spotify_data_pipe.csv')"
   ]
  },
  {
   "cell_type": "code",
   "execution_count": null,
   "id": "26216a2a",
   "metadata": {},
   "outputs": [],
   "source": [
    "df_pipe.show()"
   ]
  },
  {
   "cell_type": "code",
   "execution_count": null,
   "id": "2c6d80b9",
   "metadata": {},
   "outputs": [],
   "source": [
    "# Handling with a broken dataframe\n",
    "df_broken = spark.read.options(header= 'True', sep=',', \n",
    "                       inferSchema='True') \\\n",
    "                .csv('listings.csv')\n",
    "df_broken.show()"
   ]
  },
  {
   "cell_type": "code",
   "execution_count": null,
   "id": "7a1760ae",
   "metadata": {},
   "outputs": [],
   "source": [
    "group = df_broken.groupBy(\"room_type\").count()\n",
    "group.show()"
   ]
  },
  {
   "cell_type": "code",
   "execution_count": null,
   "id": "1ee66d62",
   "metadata": {},
   "outputs": [],
   "source": [
    "# Fixing broken dataframe by setting the right reading options\n",
    "df_fixed = spark.read.options(header=True, sep=',', \n",
    "                          multiLine=True, escape='\"') \\\n",
    "                .csv('listings.csv')\n",
    "\n",
    "df_fixed.show()"
   ]
  },
  {
   "cell_type": "code",
   "execution_count": null,
   "id": "2e703001",
   "metadata": {},
   "outputs": [],
   "source": [
    "group = df_fixed.groupBy(\"room_type\").count()\n",
    "group.show()"
   ]
  }
 ],
 "metadata": {
  "kernelspec": {
   "display_name": "Python 3 (ipykernel)",
   "language": "python",
   "name": "python3"
  },
  "language_info": {
   "codemirror_mode": {
    "name": "ipython",
    "version": 3
   },
   "file_extension": ".py",
   "mimetype": "text/x-python",
   "name": "python",
   "nbconvert_exporter": "python",
   "pygments_lexer": "ipython3",
   "version": "3.8.10"
  }
 },
 "nbformat": 4,
 "nbformat_minor": 5
}
