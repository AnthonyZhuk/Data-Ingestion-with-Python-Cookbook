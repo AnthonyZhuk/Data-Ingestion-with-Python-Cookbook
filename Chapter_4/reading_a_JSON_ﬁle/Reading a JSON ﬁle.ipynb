{
 "cells": [
  {
   "cell_type": "code",
   "execution_count": null,
   "id": "527c905c",
   "metadata": {},
   "outputs": [],
   "source": [
    "import json\n",
    "\n",
    "filename_json = 'github_events.json'\n",
    "\n",
    "with open (filename_json, 'r') as f:\n",
    "    git = json.loads(f.read())"
   ]
  },
  {
   "cell_type": "code",
   "execution_count": null,
   "id": "ddc14036",
   "metadata": {},
   "outputs": [],
   "source": [
    "id_list = [item['id'] for item in git]\n",
    "print(id_list)"
   ]
  }
 ],
 "metadata": {
  "kernelspec": {
   "display_name": "Python 3 (ipykernel)",
   "language": "python",
   "name": "python3"
  },
  "language_info": {
   "codemirror_mode": {
    "name": "ipython",
    "version": 3
   },
   "file_extension": ".py",
   "mimetype": "text/x-python",
   "name": "python",
   "nbconvert_exporter": "python",
   "pygments_lexer": "ipython3",
   "version": "3.8.10"
  }
 },
 "nbformat": 4,
 "nbformat_minor": 5
}
