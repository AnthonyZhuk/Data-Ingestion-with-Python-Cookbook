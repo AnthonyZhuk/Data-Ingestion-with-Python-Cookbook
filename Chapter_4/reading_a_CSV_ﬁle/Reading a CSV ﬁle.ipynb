{
 "cells": [
  {
   "cell_type": "code",
   "execution_count": null,
   "id": "ee99ccc5",
   "metadata": {},
   "outputs": [],
   "source": [
    "import csv\n",
    "\n",
    "filename = \"spotify_data.csv\"\n",
    "\n",
    "columns = []\n",
    "rows = []\n",
    "\n",
    "with open (filename, 'r') as f:\n",
    "    csvreader = csv.reader(f)\n",
    "    \n",
    "    fields = next(csvreader)\n",
    " \n",
    "    for row in csvreader:\n",
    "        rows.append(row)"
   ]
  },
  {
   "cell_type": "code",
   "execution_count": null,
   "id": "73384465",
   "metadata": {},
   "outputs": [],
   "source": [
    "print('Field names are:' + ', '.join(column for column in columns))"
   ]
  },
  {
   "cell_type": "code",
   "execution_count": null,
   "id": "a02089e6",
   "metadata": {},
   "outputs": [],
   "source": [
    "# printing first 10 rows\n",
    "print('First 10 rows:')\n",
    "for row in rows[:10]:\n",
    "    # parsing each column of a row\n",
    "    for col in row:\n",
    "        print(col)\n",
    "    print('\\n')"
   ]
  }
 ],
 "metadata": {
  "kernelspec": {
   "display_name": "Python 3 (ipykernel)",
   "language": "python",
   "name": "python3"
  },
  "language_info": {
   "codemirror_mode": {
    "name": "ipython",
    "version": 3
   },
   "file_extension": ".py",
   "mimetype": "text/x-python",
   "name": "python",
   "nbconvert_exporter": "python",
   "pygments_lexer": "ipython3",
   "version": "3.8.10"
  }
 },
 "nbformat": 4,
 "nbformat_minor": 5
}
