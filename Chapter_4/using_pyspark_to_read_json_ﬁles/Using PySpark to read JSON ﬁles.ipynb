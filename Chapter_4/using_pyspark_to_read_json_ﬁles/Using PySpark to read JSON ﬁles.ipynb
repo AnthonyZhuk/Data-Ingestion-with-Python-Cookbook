{
 "cells": [
  {
   "cell_type": "code",
   "execution_count": null,
   "id": "a1e49ced",
   "metadata": {},
   "outputs": [],
   "source": [
    "from pyspark.sql import SparkSession"
   ]
  },
  {
   "cell_type": "code",
   "execution_count": null,
   "id": "80bb562d",
   "metadata": {},
   "outputs": [],
   "source": [
    "spark = SparkSession.builder \\\n",
    "      .master(\"local[1]\") \\\n",
    "      .appName(\"DataIngestion_CSV\") \\\n",
    "      .config(\"spark.executor.memory\", '3g') \\\n",
    "      .config(\"spark.executor.cores\", '1') \\\n",
    "      .config(\"spark.cores.max\", '1') \\\n",
    "      .getOrCreate()"
   ]
  },
  {
   "cell_type": "code",
   "execution_count": null,
   "id": "dcc95331",
   "metadata": {},
   "outputs": [],
   "source": [
    "spark"
   ]
  },
  {
   "cell_type": "code",
   "execution_count": null,
   "id": "082a9971",
   "metadata": {},
   "outputs": [],
   "source": [
    "df_json = spark.read.option(\"multiline\",\"true\") \\\n",
    "                    .json('github_events.json')"
   ]
  },
  {
   "cell_type": "code",
   "execution_count": null,
   "id": "7bcbe40f",
   "metadata": {},
   "outputs": [],
   "source": [
    "df_json.show()"
   ]
  }
 ],
 "metadata": {
  "kernelspec": {
   "display_name": "Python 3 (ipykernel)",
   "language": "python",
   "name": "python3"
  },
  "language_info": {
   "codemirror_mode": {
    "name": "ipython",
    "version": 3
   },
   "file_extension": ".py",
   "mimetype": "text/x-python",
   "name": "python",
   "nbconvert_exporter": "python",
   "pygments_lexer": "ipython3",
   "version": "3.8.10"
  }
 },
 "nbformat": 4,
 "nbformat_minor": 5
}
